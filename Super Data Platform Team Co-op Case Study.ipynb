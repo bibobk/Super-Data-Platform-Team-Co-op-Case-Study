{
 "cells": [
  {
   "cell_type": "code",
   "execution_count": 78,
   "id": "5b0c255d-5fa2-4bdb-a34b-fceaff214337",
   "metadata": {},
   "outputs": [],
   "source": [
    "import pandas as pd\n",
    "import io"
   ]
  },
  {
   "cell_type": "code",
   "execution_count": 79,
   "id": "3290d0bb-9cc0-433b-8a3b-6859c1eb97f9",
   "metadata": {},
   "outputs": [],
   "source": [
    "data = '' 'Airline Code;DelayTimes;FlightCodes;To_From\\nAir Canada (!);[21, 40];20015.0;WAterLoo_NEWYork\\n<Air France> (12);[];;Montreal_TORONTO\\n(Porter Airways. );[60, 22, 87];20035.0;CALgary_Ottawa\\n12. Air France;[78, 66];;Ottawa_VANcouvER\\n\"\"\".\\\\.Lufthansa.\\\\.\"\"\";[12, 33];20055.0;london_MONTreal\\n'''"
   ]
  },
  {
   "cell_type": "code",
   "execution_count": 80,
   "id": "14507f50-6fc9-4666-82fc-6d169ab16c5a",
   "metadata": {},
   "outputs": [
    {
     "name": "stdout",
     "output_type": "stream",
     "text": [
      "         Airline Code    DelayTimes  FlightCodes           To_From\n",
      "0      Air Canada (!)      [21, 40]      20015.0  WAterLoo_NEWYork\n",
      "1   <Air France> (12)            []          NaN  Montreal_TORONTO\n",
      "2  (Porter Airways. )  [60, 22, 87]      20035.0    CALgary_Ottawa\n",
      "3      12. Air France      [78, 66]          NaN  Ottawa_VANcouvER\n",
      "4   \".\\.Lufthansa.\\.\"      [12, 33]      20055.0   london_MONTreal\n"
     ]
    }
   ],
   "source": [
    "# Convert the given stringified table into an file-like object, then read the data into dataframe\n",
    "data_io = io.StringIO(data) \n",
    "\n",
    "df = pd.read_csv(data_io, delimiter=';', lineterminator='\\n')\n",
    "print(df)"
   ]
  },
  {
   "cell_type": "code",
   "execution_count": 81,
   "id": "77991589-ca4c-4f7c-a18d-c39cc545955d",
   "metadata": {},
   "outputs": [
    {
     "name": "stdout",
     "output_type": "stream",
     "text": [
      "         Airline Code    DelayTimes  FlightCodes           To_From\n",
      "0      Air Canada (!)      [21, 40]        20015  WAterLoo_NEWYork\n",
      "1   <Air France> (12)            []        20025  Montreal_TORONTO\n",
      "2  (Porter Airways. )  [60, 22, 87]        20035    CALgary_Ottawa\n",
      "3      12. Air France      [78, 66]        20045  Ottawa_VANcouvER\n",
      "4   \".\\.Lufthansa.\\.\"      [12, 33]        20055   london_MONTreal\n"
     ]
    }
   ],
   "source": [
    "# Fill missing values in FlightCodes column with values incremented by 10\n",
    "\n",
    "# Convert stings in FlightCodes column into numeric, or NaN if it is not able to\n",
    "df['FlightCodes'] = pd.to_numeric(df['FlightCodes'], errors='coerce') \n",
    "\n",
    "# Fill in NaN values by using a straight line between the values before and after the NaN\n",
    "df['FlightCodes'] = df['FlightCodes'].interpolate(method='linear').astype(int)\n",
    "print(df)"
   ]
  },
  {
   "cell_type": "code",
   "execution_count": 82,
   "id": "c00fe2bb-6bee-45ec-b624-068938d3cb11",
   "metadata": {},
   "outputs": [
    {
     "name": "stdout",
     "output_type": "stream",
     "text": [
      "         Airline Code    DelayTimes       From        To\n",
      "0      Air Canada (!)      [21, 40]    NEWYORK  WATERLOO\n",
      "1   <Air France> (12)            []    TORONTO  MONTREAL\n",
      "2  (Porter Airways. )  [60, 22, 87]     OTTAWA   CALGARY\n",
      "3      12. Air France      [78, 66]  VANCOUVER    OTTAWA\n",
      "4   \".\\.Lufthansa.\\.\"      [12, 33]   MONTREAL    LONDON\n"
     ]
    }
   ],
   "source": [
    "# Split To_From column into two seperate columns on '_'\n",
    "df[['To', 'From']] = df['To_From'].str.split('_', expand=True)\n",
    "\n",
    "# Swap the 'To' and 'From' columns\n",
    "df = df[['Airline Code', 'DelayTimes', 'From', 'To']]\n",
    "\n",
    "# Convert both new column into uppercase\n",
    "df['To'] = df['To'].str.upper()\n",
    "df['From'] = df['From'].str.upper()\n",
    "\n",
    "print(df)"
   ]
  },
  {
   "cell_type": "code",
   "execution_count": 83,
   "id": "e43ff8eb-6f20-4142-be9f-b69346bb6107",
   "metadata": {},
   "outputs": [
    {
     "name": "stdout",
     "output_type": "stream",
     "text": [
      "     Airline Code    DelayTimes       From        To\n",
      "0      Air Canada      [21, 40]    NEWYORK  WATERLOO\n",
      "1   Air France 12            []    TORONTO  MONTREAL\n",
      "2  Porter Airways  [60, 22, 87]     OTTAWA   CALGARY\n",
      "3   12 Air France      [78, 66]  VANCOUVER    OTTAWA\n",
      "4       Lufthansa      [12, 33]   MONTREAL    LONDON\n"
     ]
    }
   ],
   "source": [
    "# Clean Airline Code by removing punctuation using regular expression, except space in the middle\n",
    "df['Airline Code'] = df['Airline Code'].str.replace(r'[^\\w\\s]', '', regex=True).str.strip()\n",
    "print(df)"
   ]
  },
  {
   "cell_type": "code",
   "execution_count": 84,
   "id": "6110c9c0-8f5d-41aa-9bd2-e21b7cf87874",
   "metadata": {},
   "outputs": [],
   "source": [
    "# Save the df as a csv file\n",
    "df.to_csv('cleaned_data.csv', index=False)"
   ]
  }
 ],
 "metadata": {
  "kernelspec": {
   "display_name": "Python 3 (ipykernel)",
   "language": "python",
   "name": "python3"
  },
  "language_info": {
   "codemirror_mode": {
    "name": "ipython",
    "version": 3
   },
   "file_extension": ".py",
   "mimetype": "text/x-python",
   "name": "python",
   "nbconvert_exporter": "python",
   "pygments_lexer": "ipython3",
   "version": "3.11.5"
  }
 },
 "nbformat": 4,
 "nbformat_minor": 5
}
